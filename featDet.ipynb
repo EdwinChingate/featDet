{
 "cells": [
  {
   "cell_type": "code",
   "execution_count": 1,
   "id": "ab67b34e",
   "metadata": {
    "ExecuteTime": {
     "end_time": "2024-11-14T12:01:22.615431Z",
     "start_time": "2024-11-14T12:01:21.292480Z"
    }
   },
   "outputs": [],
   "source": [
    "import sys\n",
    "import os\n",
    "home=os.getcwd()\n",
    "sys.path.append(home+'/Functions')\n",
    "from ChargeDataSet import *\n",
    "from MS1IDs import *\n",
    "from NumpyMSPeaksIdentification import *\n",
    "from PeaksIdent import *\n",
    "from ShowDF import *\n",
    "import numpy as np\n",
    "import pandas as pd\n",
    "import sys\n",
    "import matplotlib.pyplot as plt"
   ]
  },
  {
   "cell_type": "code",
   "execution_count": 2,
   "id": "a83e517e",
   "metadata": {
    "ExecuteTime": {
     "end_time": "2024-11-14T12:01:23.488438Z",
     "start_time": "2024-11-14T12:01:23.478748Z"
    }
   },
   "outputs": [],
   "source": [
    "DataSetName='12111.mzML'"
   ]
  },
  {
   "cell_type": "code",
   "execution_count": 3,
   "id": "a658a46e",
   "metadata": {
    "ExecuteTime": {
     "end_time": "2024-11-14T12:01:27.285246Z",
     "start_time": "2024-11-14T12:01:24.564480Z"
    }
   },
   "outputs": [],
   "source": [
    "DataSet=ChargeDataSet(DataSetName)"
   ]
  },
  {
   "cell_type": "code",
   "execution_count": 4,
   "id": "7ae5429a",
   "metadata": {
    "ExecuteTime": {
     "end_time": "2024-11-14T12:01:27.420807Z",
     "start_time": "2024-11-14T12:01:27.286976Z"
    }
   },
   "outputs": [],
   "source": [
    "MS1IDVec=MS1IDs(DataSet)"
   ]
  },
  {
   "cell_type": "markdown",
   "id": "c8838019",
   "metadata": {},
   "source": [
    "## This one is very important!"
   ]
  },
  {
   "cell_type": "code",
   "execution_count": 163,
   "id": "5068aa44",
   "metadata": {
    "ExecuteTime": {
     "end_time": "2024-11-12T23:26:36.154302Z",
     "start_time": "2024-11-12T23:26:36.043489Z"
    }
   },
   "outputs": [
    {
     "name": "stdout",
     "output_type": "stream",
     "text": [
      "[  5  11  17  23  29  32  37  41  45  50  53  54  58  62  66  75  78  81\n",
      "  84  88  94  99 101 105 108 110]\n",
      "(112, 2)\n",
      "(10827, 2)\n"
     ]
    }
   ],
   "source": [
    "ZeroInt=1e4\n",
    "plus_mz=2\n",
    "min_mz=200\n",
    "min_mzplus=min_mz+plus_mz\n",
    "max_mz=212\n",
    "PeaksSafetyFactor=2\n",
    "Peaks=PeaksIdent(RawSignals,minInt=ZeroInt,min_mz=0,max_mz=min_mzplus,minSignals=4,JustStats=True)\n",
    "DifTres=np.max(Peaks[:,10])*PeaksSafetyFactor\n",
    "Signals_filter=(RawSignals[:,0]<max_mz)&(RawSignals[:,0]>min_mz)&(RawSignals[:,1]>ZeroInt)\n",
    "Signals=RawSignals[Signals_filter,:]\n",
    "Dif_mz_vec=Signals[1:,0]-Signals[:-1,0]\n",
    "print(np.where(Dif_mz_vec>DifTres)[0])\n",
    "print(np.shape(Signals))\n",
    "print(np.shape(RawSignals))"
   ]
  },
  {
   "cell_type": "code",
   "execution_count": 62,
   "id": "315b497d",
   "metadata": {
    "ExecuteTime": {
     "end_time": "2024-10-27T02:36:36.179458Z",
     "start_time": "2024-10-27T02:36:32.162024Z"
    },
    "scrolled": true
   },
   "outputs": [],
   "source": [
    "#I can go in order and start searching for the signals between my peaks while I evaluate them\n",
    "ms1_id=MS1IDVec[0]\n",
    "RawSignals=np.array(DataSet[int(ms1_id)].get_peaks()).T \n",
    "Peaks=PeaksIdent(RawSignals)\n",
    "for idv in np.arange(1,100,4):\n",
    "    ms1_id=MS1IDVec[idv]\n",
    "    RawSignals2=np.array(DataSet[int(ms1_id)].get_peaks()).T \n",
    "    NewSpectrum=RawSignals2.copy()\n",
    "    DeviationTimes=4\n",
    "    for peak in Peaks:\n",
    "        min_mz_peak=peak[0]-DeviationTimes*peak[1]\n",
    "        max_mz_peak=peak[0]+DeviationTimes*peak[1]\n",
    "       # print(min_mz_peak,max_mz_peak)\n",
    "        peakFilter=(NewSpectrum[:,0]>min_mz_peak)&(NewSpectrum[:,0]<max_mz_peak) \n",
    "        NewSpectrumFilter=peakFilter\n",
    "        #NewSpectrum=NewSpectrum[NewSpectrumFilter,:]\n",
    "        NewSpectrum[NewSpectrumFilter,:]=0\n",
    "    NewPeaks=PeaksIdent(NewSpectrum)\n",
    "    Peaks=np.append(Peaks,NewPeaks,axis=0)\n",
    "    #print(np.shape(Peaks)[0])\n",
    "    #peakLoc=np.where(peakFilter)[0]\n",
    "    #print(NewSpectrum[peakLoc,0])"
   ]
  }
 ],
 "metadata": {
  "kernelspec": {
   "display_name": "Python 3 (ipykernel)",
   "language": "python",
   "name": "python3"
  },
  "language_info": {
   "codemirror_mode": {
    "name": "ipython",
    "version": 3
   },
   "file_extension": ".py",
   "mimetype": "text/x-python",
   "name": "python",
   "nbconvert_exporter": "python",
   "pygments_lexer": "ipython3",
   "version": "3.7.13"
  }
 },
 "nbformat": 4,
 "nbformat_minor": 5
}
